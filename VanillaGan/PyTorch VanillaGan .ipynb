{
 "cells": [
  {
   "cell_type": "code",
   "execution_count": 3,
   "metadata": {},
   "outputs": [],
   "source": [
    "import numpy as np\n",
    "import pandas as pd\n",
    "import matplotlib.pyplot as plt\n",
    "\n",
    "import torch\n",
    "from torch import nn, optim\n",
    "from torch.autograd.variable import Variable"
   ]
  },
  {
   "cell_type": "code",
   "execution_count": 15,
   "metadata": {},
   "outputs": [],
   "source": [
    "df = pd.read_excel(\"../Data/CallCenterData.xlsx\", index_col=0)"
   ]
  },
  {
   "cell_type": "code",
   "execution_count": 16,
   "metadata": {},
   "outputs": [
    {
     "data": {
      "text/html": [
       "<div>\n",
       "<style scoped>\n",
       "    .dataframe tbody tr th:only-of-type {\n",
       "        vertical-align: middle;\n",
       "    }\n",
       "\n",
       "    .dataframe tbody tr th {\n",
       "        vertical-align: top;\n",
       "    }\n",
       "\n",
       "    .dataframe thead th {\n",
       "        text-align: right;\n",
       "    }\n",
       "</style>\n",
       "<table border=\"1\" class=\"dataframe\">\n",
       "  <thead>\n",
       "    <tr style=\"text-align: right;\">\n",
       "      <th></th>\n",
       "      <th>CallCount</th>\n",
       "      <th>Acht</th>\n",
       "      <th>freq</th>\n",
       "      <th>freq_100</th>\n",
       "      <th>year</th>\n",
       "      <th>month</th>\n",
       "      <th>day</th>\n",
       "      <th>hour</th>\n",
       "      <th>weekday</th>\n",
       "      <th>weekend</th>\n",
       "      <th>quarter</th>\n",
       "    </tr>\n",
       "  </thead>\n",
       "  <tbody>\n",
       "    <tr>\n",
       "      <th>2020-11-01 19:00:00</th>\n",
       "      <td>47</td>\n",
       "      <td>660</td>\n",
       "      <td>0.0625</td>\n",
       "      <td>6.25</td>\n",
       "      <td>2020</td>\n",
       "      <td>11</td>\n",
       "      <td>1</td>\n",
       "      <td>19</td>\n",
       "      <td>7</td>\n",
       "      <td>1</td>\n",
       "      <td>4</td>\n",
       "    </tr>\n",
       "    <tr>\n",
       "      <th>2020-11-01 20:00:00</th>\n",
       "      <td>23</td>\n",
       "      <td>504</td>\n",
       "      <td>0.0306</td>\n",
       "      <td>3.06</td>\n",
       "      <td>2020</td>\n",
       "      <td>11</td>\n",
       "      <td>1</td>\n",
       "      <td>20</td>\n",
       "      <td>7</td>\n",
       "      <td>1</td>\n",
       "      <td>4</td>\n",
       "    </tr>\n",
       "    <tr>\n",
       "      <th>2020-11-01 21:00:00</th>\n",
       "      <td>40</td>\n",
       "      <td>665</td>\n",
       "      <td>0.0532</td>\n",
       "      <td>5.32</td>\n",
       "      <td>2020</td>\n",
       "      <td>11</td>\n",
       "      <td>1</td>\n",
       "      <td>21</td>\n",
       "      <td>7</td>\n",
       "      <td>1</td>\n",
       "      <td>4</td>\n",
       "    </tr>\n",
       "    <tr>\n",
       "      <th>2020-11-01 22:00:00</th>\n",
       "      <td>24</td>\n",
       "      <td>692</td>\n",
       "      <td>0.0319</td>\n",
       "      <td>3.19</td>\n",
       "      <td>2020</td>\n",
       "      <td>11</td>\n",
       "      <td>1</td>\n",
       "      <td>22</td>\n",
       "      <td>7</td>\n",
       "      <td>1</td>\n",
       "      <td>4</td>\n",
       "    </tr>\n",
       "    <tr>\n",
       "      <th>2020-11-01 23:00:00</th>\n",
       "      <td>17</td>\n",
       "      <td>635</td>\n",
       "      <td>0.0226</td>\n",
       "      <td>2.26</td>\n",
       "      <td>2020</td>\n",
       "      <td>11</td>\n",
       "      <td>1</td>\n",
       "      <td>23</td>\n",
       "      <td>7</td>\n",
       "      <td>1</td>\n",
       "      <td>4</td>\n",
       "    </tr>\n",
       "  </tbody>\n",
       "</table>\n",
       "</div>"
      ],
      "text/plain": [
       "                     CallCount  Acht    freq  freq_100  year  month  day  \\\n",
       "2020-11-01 19:00:00         47   660  0.0625      6.25  2020     11    1   \n",
       "2020-11-01 20:00:00         23   504  0.0306      3.06  2020     11    1   \n",
       "2020-11-01 21:00:00         40   665  0.0532      5.32  2020     11    1   \n",
       "2020-11-01 22:00:00         24   692  0.0319      3.19  2020     11    1   \n",
       "2020-11-01 23:00:00         17   635  0.0226      2.26  2020     11    1   \n",
       "\n",
       "                     hour  weekday  weekend  quarter  \n",
       "2020-11-01 19:00:00    19        7        1        4  \n",
       "2020-11-01 20:00:00    20        7        1        4  \n",
       "2020-11-01 21:00:00    21        7        1        4  \n",
       "2020-11-01 22:00:00    22        7        1        4  \n",
       "2020-11-01 23:00:00    23        7        1        4  "
      ]
     },
     "execution_count": 16,
     "metadata": {},
     "output_type": "execute_result"
    }
   ],
   "source": [
    "df.tail()"
   ]
  },
  {
   "cell_type": "code",
   "execution_count": 19,
   "metadata": {},
   "outputs": [],
   "source": [
    "series = df.freq.values"
   ]
  },
  {
   "cell_type": "code",
   "execution_count": 31,
   "metadata": {},
   "outputs": [
    {
     "data": {
      "text/plain": [
       "148.0"
      ]
     },
     "execution_count": 31,
     "metadata": {},
     "output_type": "execute_result"
    }
   ],
   "source": [
    "# Whole batch length\n",
    "len(series)/7/24"
   ]
  },
  {
   "cell_type": "code",
   "execution_count": 29,
   "metadata": {},
   "outputs": [
    {
     "data": {
      "text/plain": [
       "array([1.    , 0.9999, 0.9999, 1.0001, 0.9997, 1.0001, 1.0001])"
      ]
     },
     "execution_count": 29,
     "metadata": {},
     "output_type": "execute_result"
    }
   ],
   "source": [
    "# See if it did shape accordingly\n",
    "np.sum(series[:7*24].reshape(-1,24), axis=1)"
   ]
  },
  {
   "cell_type": "code",
   "execution_count": 37,
   "metadata": {},
   "outputs": [],
   "source": [
    "# Create whole batches as according to our needs\n",
    "arr = []\n",
    "step = 7\n",
    "for i in range(0, int(len(series)/24), step):\n",
    "    arr.append(series[i*24:(i+step)*24].reshape(step,24))\n",
    "arr = np.array(arr)"
   ]
  },
  {
   "cell_type": "code",
   "execution_count": 48,
   "metadata": {},
   "outputs": [
    {
     "data": {
      "text/plain": [
       "(148, 7, 24)"
      ]
     },
     "execution_count": 48,
     "metadata": {},
     "output_type": "execute_result"
    }
   ],
   "source": [
    "# Correct shape\n",
    "arr.shape"
   ]
  },
  {
   "cell_type": "code",
   "execution_count": 57,
   "metadata": {},
   "outputs": [
    {
     "data": {
      "text/plain": [
       "168"
      ]
     },
     "execution_count": 57,
     "metadata": {},
     "output_type": "execute_result"
    }
   ],
   "source": [
    "np.prod((arr.shape[1], arr.shape[2]))"
   ]
  },
  {
   "cell_type": "code",
   "execution_count": 82,
   "metadata": {},
   "outputs": [
    {
     "data": {
      "text/plain": [
       "1"
      ]
     },
     "execution_count": 82,
     "metadata": {},
     "output_type": "execute_result"
    }
   ],
   "source": [
    "np.prod(1)"
   ]
  },
  {
   "cell_type": "code",
   "execution_count": 49,
   "metadata": {},
   "outputs": [],
   "source": [
    "# Data Loader for torch\n",
    "data_loader = torch.utils.data.DataLoader(arr, batch_size=10, shuffle=False)\n",
    "num_batches = len(data_loader) # DataLoader.__len__() and 148/10 = 15 batch count"
   ]
  },
  {
   "cell_type": "code",
   "execution_count": 92,
   "metadata": {},
   "outputs": [],
   "source": [
    "# Discriminator Model\n",
    "class Discriminator(nn.Module):\n",
    "    def __init__(self, in_features):\n",
    "        super().__init__()\n",
    "        \n",
    "        in_features = np.prod(in_features) # Tuple, list, integer etc.. if (7,24) = 7*24 else it will return num\n",
    "        self.model = nn.Sequential(\n",
    "            nn.Linear(in_features, 128),\n",
    "            nn.LeakyReLU(0.02),\n",
    "            nn.Linear(128, 1),\n",
    "            nn.Sigmoid()\n",
    "        )\n",
    "    \n",
    "    def forward(self, x):\n",
    "        return self.model(x)\n",
    "    \n",
    "class Generator(nn.Module):\n",
    "    def __init__(self, z_dim, img_dim):\n",
    "        super().__init__()\n",
    "        \n",
    "        z_dim = np.prod(z_dim)\n",
    "        img_dim = np.prod(img_dim)\n",
    "        self.model = nn.Sequential(\n",
    "            nn.Linear(z_dim, 256),\n",
    "            nn.LeakyReLU(0.02),\n",
    "            nn.Linear(256, img_dim),\n",
    "            nn.Sigmoid()\n",
    "        )\n",
    "        \n",
    "    def forward(self, x):\n",
    "        return self.model(x)\n",
    "    "
   ]
  },
  {
   "cell_type": "code",
   "execution_count": 93,
   "metadata": {},
   "outputs": [],
   "source": [
    "device = \"cuda\" if torch.cuda.is_available() else \"cpu\"\n",
    "lr = 3e-4\n",
    "z_dim = 64\n",
    "image_dim = 7 * 24\n",
    "batch_size = 32"
   ]
  },
  {
   "cell_type": "code",
   "execution_count": 146,
   "metadata": {},
   "outputs": [],
   "source": [
    "disc = Discriminator(image_dim).to(device)\n",
    "gen = Generator(z_dim, image_dim).to(device)\n",
    "fixed_noise = torch.randn((1, z_dim)).to(device)"
   ]
  },
  {
   "cell_type": "code",
   "execution_count": 147,
   "metadata": {},
   "outputs": [],
   "source": [
    "opt_disc = optim.Adam(disc.parameters(), lr=lr)\n",
    "opt_gen = optim.Adam(gen.parameters(), lr=lr)\n",
    "loss = nn.BCELoss()"
   ]
  },
  {
   "cell_type": "code",
   "execution_count": 176,
   "metadata": {},
   "outputs": [
    {
     "name": "stdout",
     "output_type": "stream",
     "text": [
      "Epoch [0/100] Loss D: 0.6426, loss G: 0.7346\n",
      "Epoch [5/100] Loss D: 0.6403, loss G: 0.7777\n",
      "Epoch [10/100] Loss D: 0.5973, loss G: 0.8584\n",
      "Epoch [15/100] Loss D: 0.5641, loss G: 0.9323\n",
      "Epoch [20/100] Loss D: 0.6199, loss G: 0.7907\n",
      "Epoch [25/100] Loss D: 0.5654, loss G: 0.8824\n",
      "Epoch [30/100] Loss D: 0.6023, loss G: 0.8889\n",
      "Epoch [35/100] Loss D: 0.5981, loss G: 0.8066\n",
      "Epoch [40/100] Loss D: 0.5982, loss G: 0.8472\n",
      "Epoch [45/100] Loss D: 0.6129, loss G: 0.7994\n",
      "Epoch [50/100] Loss D: 0.6088, loss G: 0.8013\n",
      "Epoch [55/100] Loss D: 0.6020, loss G: 0.7846\n",
      "Epoch [60/100] Loss D: 0.6089, loss G: 0.8018\n",
      "Epoch [65/100] Loss D: 0.6582, loss G: 0.7550\n",
      "Epoch [70/100] Loss D: 0.5877, loss G: 0.8975\n",
      "Epoch [75/100] Loss D: 0.5886, loss G: 0.8961\n",
      "Epoch [80/100] Loss D: 0.5566, loss G: 0.8832\n",
      "Epoch [85/100] Loss D: 0.6202, loss G: 0.7576\n",
      "Epoch [90/100] Loss D: 0.6436, loss G: 0.7360\n",
      "Epoch [95/100] Loss D: 0.6007, loss G: 0.8598\n"
     ]
    }
   ],
   "source": [
    "num_epochs = 100\n",
    "for epoch in range(num_epochs):\n",
    "    for batch_idx, real in enumerate(data_loader):\n",
    "        real = real.view(-1, image_dim).to(device)\n",
    "        batch_size = real.shape[0]\n",
    "        \n",
    "        noise = torch.randn(batch_size, z_dim).to(device)\n",
    "        fake = gen(noise)\n",
    "        \n",
    "        ### Train Discriminator: max log(D(x)) + log(1 - D(G(z)))\n",
    "        disc_real = disc(real.float()).view(-1)\n",
    "        lossD_real = loss(disc_real, torch.ones_like(disc_real))\n",
    "        \n",
    "        disc_fake = disc(fake).view(-1)\n",
    "        lossD_fake = loss(disc_fake, torch.zeros_like(disc_fake))\n",
    "        \n",
    "        lossD = (lossD_real + lossD_fake)/2\n",
    "        \n",
    "        disc.zero_grad()\n",
    "        lossD.backward(retain_graph=True)\n",
    "        opt_disc.step()\n",
    "        \n",
    "        ### Train Generator: min log(1 - D(G(z))) <-> max log(D(G(z))\n",
    "        # where the second option of maximizing doesn't suffer from\n",
    "        # saturating gradients\n",
    "        \n",
    "        output = disc(fake).view(-1)\n",
    "        lossG = loss(output, torch.ones_like(output))\n",
    "        gen.zero_grad()\n",
    "        lossG.backward()\n",
    "        opt_gen.step()\n",
    "        \n",
    "    if not(epoch % 5):\n",
    "        print(f\"Epoch [{epoch}/{num_epochs}] Loss D: {lossD:.4f}, loss G: {lossG:.4f}\")"
   ]
  },
  {
   "cell_type": "code",
   "execution_count": 177,
   "metadata": {},
   "outputs": [],
   "source": [
    "s = np.mean(gen(torch.randn(100000, z_dim).to(device)).detach().numpy(), axis=0).reshape(7,24)\n",
    "d = [\"Monday\", \"Tuesday\", \"Wednesday\", \"Thursday\", \"Friday\", \"Saturday\", \"Sunday\"]\n",
    "asd = pd.DataFrame({d[i]:j*100 for i,j in enumerate(s)})"
   ]
  },
  {
   "cell_type": "code",
   "execution_count": 178,
   "metadata": {},
   "outputs": [
    {
     "data": {
      "text/html": [
       "<div>\n",
       "<style scoped>\n",
       "    .dataframe tbody tr th:only-of-type {\n",
       "        vertical-align: middle;\n",
       "    }\n",
       "\n",
       "    .dataframe tbody tr th {\n",
       "        vertical-align: top;\n",
       "    }\n",
       "\n",
       "    .dataframe thead th {\n",
       "        text-align: right;\n",
       "    }\n",
       "</style>\n",
       "<table border=\"1\" class=\"dataframe\">\n",
       "  <thead>\n",
       "    <tr style=\"text-align: right;\">\n",
       "      <th></th>\n",
       "      <th>Monday</th>\n",
       "      <th>Tuesday</th>\n",
       "      <th>Wednesday</th>\n",
       "      <th>Thursday</th>\n",
       "      <th>Friday</th>\n",
       "      <th>Saturday</th>\n",
       "      <th>Sunday</th>\n",
       "    </tr>\n",
       "  </thead>\n",
       "  <tbody>\n",
       "    <tr>\n",
       "      <th>0</th>\n",
       "      <td>0.301682</td>\n",
       "      <td>0.930768</td>\n",
       "      <td>1.569379</td>\n",
       "      <td>0.616025</td>\n",
       "      <td>0.281221</td>\n",
       "      <td>1.293839</td>\n",
       "      <td>1.754147</td>\n",
       "    </tr>\n",
       "    <tr>\n",
       "      <th>1</th>\n",
       "      <td>0.516919</td>\n",
       "      <td>0.256922</td>\n",
       "      <td>0.134980</td>\n",
       "      <td>0.108983</td>\n",
       "      <td>0.166580</td>\n",
       "      <td>0.129641</td>\n",
       "      <td>11.198625</td>\n",
       "    </tr>\n",
       "    <tr>\n",
       "      <th>2</th>\n",
       "      <td>0.067465</td>\n",
       "      <td>0.127190</td>\n",
       "      <td>1.204425</td>\n",
       "      <td>0.407703</td>\n",
       "      <td>0.085259</td>\n",
       "      <td>0.119428</td>\n",
       "      <td>0.116376</td>\n",
       "    </tr>\n",
       "    <tr>\n",
       "      <th>3</th>\n",
       "      <td>0.020417</td>\n",
       "      <td>0.026954</td>\n",
       "      <td>0.025604</td>\n",
       "      <td>0.024241</td>\n",
       "      <td>0.046836</td>\n",
       "      <td>0.078236</td>\n",
       "      <td>0.091622</td>\n",
       "    </tr>\n",
       "    <tr>\n",
       "      <th>4</th>\n",
       "      <td>0.021831</td>\n",
       "      <td>0.052860</td>\n",
       "      <td>0.022713</td>\n",
       "      <td>0.026491</td>\n",
       "      <td>0.016934</td>\n",
       "      <td>0.047353</td>\n",
       "      <td>0.048826</td>\n",
       "    </tr>\n",
       "    <tr>\n",
       "      <th>5</th>\n",
       "      <td>0.077707</td>\n",
       "      <td>0.028690</td>\n",
       "      <td>0.028951</td>\n",
       "      <td>0.027720</td>\n",
       "      <td>0.020374</td>\n",
       "      <td>0.057452</td>\n",
       "      <td>0.073804</td>\n",
       "    </tr>\n",
       "    <tr>\n",
       "      <th>6</th>\n",
       "      <td>1.260702</td>\n",
       "      <td>0.096456</td>\n",
       "      <td>0.064868</td>\n",
       "      <td>0.246211</td>\n",
       "      <td>0.193845</td>\n",
       "      <td>0.085399</td>\n",
       "      <td>0.094404</td>\n",
       "    </tr>\n",
       "    <tr>\n",
       "      <th>7</th>\n",
       "      <td>0.517990</td>\n",
       "      <td>0.890125</td>\n",
       "      <td>0.171088</td>\n",
       "      <td>0.226342</td>\n",
       "      <td>0.886898</td>\n",
       "      <td>0.918038</td>\n",
       "      <td>1.072047</td>\n",
       "    </tr>\n",
       "    <tr>\n",
       "      <th>8</th>\n",
       "      <td>11.063747</td>\n",
       "      <td>2.434913</td>\n",
       "      <td>4.556303</td>\n",
       "      <td>1.583542</td>\n",
       "      <td>0.758663</td>\n",
       "      <td>1.018857</td>\n",
       "      <td>0.779222</td>\n",
       "    </tr>\n",
       "    <tr>\n",
       "      <th>9</th>\n",
       "      <td>5.479805</td>\n",
       "      <td>2.947328</td>\n",
       "      <td>5.995458</td>\n",
       "      <td>6.620911</td>\n",
       "      <td>5.185590</td>\n",
       "      <td>6.941873</td>\n",
       "      <td>8.397350</td>\n",
       "    </tr>\n",
       "    <tr>\n",
       "      <th>10</th>\n",
       "      <td>3.247702</td>\n",
       "      <td>5.687251</td>\n",
       "      <td>10.288778</td>\n",
       "      <td>8.447053</td>\n",
       "      <td>7.213661</td>\n",
       "      <td>2.092971</td>\n",
       "      <td>2.097790</td>\n",
       "    </tr>\n",
       "    <tr>\n",
       "      <th>11</th>\n",
       "      <td>6.466081</td>\n",
       "      <td>5.776794</td>\n",
       "      <td>11.886760</td>\n",
       "      <td>15.493518</td>\n",
       "      <td>4.026207</td>\n",
       "      <td>4.278113</td>\n",
       "      <td>10.927430</td>\n",
       "    </tr>\n",
       "    <tr>\n",
       "      <th>12</th>\n",
       "      <td>8.055531</td>\n",
       "      <td>5.999132</td>\n",
       "      <td>10.239269</td>\n",
       "      <td>4.541367</td>\n",
       "      <td>7.985955</td>\n",
       "      <td>10.272029</td>\n",
       "      <td>6.210313</td>\n",
       "    </tr>\n",
       "    <tr>\n",
       "      <th>13</th>\n",
       "      <td>12.440234</td>\n",
       "      <td>13.174164</td>\n",
       "      <td>9.165664</td>\n",
       "      <td>6.789222</td>\n",
       "      <td>5.474791</td>\n",
       "      <td>6.579622</td>\n",
       "      <td>6.317720</td>\n",
       "    </tr>\n",
       "    <tr>\n",
       "      <th>14</th>\n",
       "      <td>2.406821</td>\n",
       "      <td>13.076356</td>\n",
       "      <td>5.253345</td>\n",
       "      <td>10.907651</td>\n",
       "      <td>18.086039</td>\n",
       "      <td>9.808399</td>\n",
       "      <td>11.545359</td>\n",
       "    </tr>\n",
       "    <tr>\n",
       "      <th>15</th>\n",
       "      <td>9.111818</td>\n",
       "      <td>5.502852</td>\n",
       "      <td>6.584052</td>\n",
       "      <td>11.449762</td>\n",
       "      <td>11.452074</td>\n",
       "      <td>5.344825</td>\n",
       "      <td>4.429805</td>\n",
       "    </tr>\n",
       "    <tr>\n",
       "      <th>16</th>\n",
       "      <td>15.837729</td>\n",
       "      <td>3.950785</td>\n",
       "      <td>4.119977</td>\n",
       "      <td>5.373718</td>\n",
       "      <td>7.321081</td>\n",
       "      <td>11.842440</td>\n",
       "      <td>10.952163</td>\n",
       "    </tr>\n",
       "    <tr>\n",
       "      <th>17</th>\n",
       "      <td>11.928130</td>\n",
       "      <td>6.182614</td>\n",
       "      <td>14.445898</td>\n",
       "      <td>9.759237</td>\n",
       "      <td>13.329909</td>\n",
       "      <td>3.904523</td>\n",
       "      <td>13.502234</td>\n",
       "    </tr>\n",
       "    <tr>\n",
       "      <th>18</th>\n",
       "      <td>6.712145</td>\n",
       "      <td>13.431952</td>\n",
       "      <td>5.986115</td>\n",
       "      <td>12.478650</td>\n",
       "      <td>6.087060</td>\n",
       "      <td>7.120567</td>\n",
       "      <td>2.329567</td>\n",
       "    </tr>\n",
       "    <tr>\n",
       "      <th>19</th>\n",
       "      <td>2.566881</td>\n",
       "      <td>3.529120</td>\n",
       "      <td>2.443921</td>\n",
       "      <td>2.121135</td>\n",
       "      <td>2.556192</td>\n",
       "      <td>3.708022</td>\n",
       "      <td>5.057148</td>\n",
       "    </tr>\n",
       "    <tr>\n",
       "      <th>20</th>\n",
       "      <td>11.464615</td>\n",
       "      <td>0.664679</td>\n",
       "      <td>2.970965</td>\n",
       "      <td>2.170581</td>\n",
       "      <td>2.625252</td>\n",
       "      <td>0.768922</td>\n",
       "      <td>8.238857</td>\n",
       "    </tr>\n",
       "    <tr>\n",
       "      <th>21</th>\n",
       "      <td>1.917183</td>\n",
       "      <td>3.379720</td>\n",
       "      <td>1.063805</td>\n",
       "      <td>3.749691</td>\n",
       "      <td>2.131061</td>\n",
       "      <td>3.729548</td>\n",
       "      <td>1.744413</td>\n",
       "    </tr>\n",
       "    <tr>\n",
       "      <th>22</th>\n",
       "      <td>1.133063</td>\n",
       "      <td>1.453205</td>\n",
       "      <td>0.862985</td>\n",
       "      <td>1.542844</td>\n",
       "      <td>2.733379</td>\n",
       "      <td>1.304092</td>\n",
       "      <td>12.211433</td>\n",
       "    </tr>\n",
       "    <tr>\n",
       "      <th>23</th>\n",
       "      <td>1.152663</td>\n",
       "      <td>2.213516</td>\n",
       "      <td>0.976359</td>\n",
       "      <td>1.081011</td>\n",
       "      <td>1.508530</td>\n",
       "      <td>0.523890</td>\n",
       "      <td>5.518473</td>\n",
       "    </tr>\n",
       "  </tbody>\n",
       "</table>\n",
       "</div>"
      ],
      "text/plain": [
       "       Monday    Tuesday  Wednesday   Thursday     Friday   Saturday  \\\n",
       "0    0.301682   0.930768   1.569379   0.616025   0.281221   1.293839   \n",
       "1    0.516919   0.256922   0.134980   0.108983   0.166580   0.129641   \n",
       "2    0.067465   0.127190   1.204425   0.407703   0.085259   0.119428   \n",
       "3    0.020417   0.026954   0.025604   0.024241   0.046836   0.078236   \n",
       "4    0.021831   0.052860   0.022713   0.026491   0.016934   0.047353   \n",
       "5    0.077707   0.028690   0.028951   0.027720   0.020374   0.057452   \n",
       "6    1.260702   0.096456   0.064868   0.246211   0.193845   0.085399   \n",
       "7    0.517990   0.890125   0.171088   0.226342   0.886898   0.918038   \n",
       "8   11.063747   2.434913   4.556303   1.583542   0.758663   1.018857   \n",
       "9    5.479805   2.947328   5.995458   6.620911   5.185590   6.941873   \n",
       "10   3.247702   5.687251  10.288778   8.447053   7.213661   2.092971   \n",
       "11   6.466081   5.776794  11.886760  15.493518   4.026207   4.278113   \n",
       "12   8.055531   5.999132  10.239269   4.541367   7.985955  10.272029   \n",
       "13  12.440234  13.174164   9.165664   6.789222   5.474791   6.579622   \n",
       "14   2.406821  13.076356   5.253345  10.907651  18.086039   9.808399   \n",
       "15   9.111818   5.502852   6.584052  11.449762  11.452074   5.344825   \n",
       "16  15.837729   3.950785   4.119977   5.373718   7.321081  11.842440   \n",
       "17  11.928130   6.182614  14.445898   9.759237  13.329909   3.904523   \n",
       "18   6.712145  13.431952   5.986115  12.478650   6.087060   7.120567   \n",
       "19   2.566881   3.529120   2.443921   2.121135   2.556192   3.708022   \n",
       "20  11.464615   0.664679   2.970965   2.170581   2.625252   0.768922   \n",
       "21   1.917183   3.379720   1.063805   3.749691   2.131061   3.729548   \n",
       "22   1.133063   1.453205   0.862985   1.542844   2.733379   1.304092   \n",
       "23   1.152663   2.213516   0.976359   1.081011   1.508530   0.523890   \n",
       "\n",
       "       Sunday  \n",
       "0    1.754147  \n",
       "1   11.198625  \n",
       "2    0.116376  \n",
       "3    0.091622  \n",
       "4    0.048826  \n",
       "5    0.073804  \n",
       "6    0.094404  \n",
       "7    1.072047  \n",
       "8    0.779222  \n",
       "9    8.397350  \n",
       "10   2.097790  \n",
       "11  10.927430  \n",
       "12   6.210313  \n",
       "13   6.317720  \n",
       "14  11.545359  \n",
       "15   4.429805  \n",
       "16  10.952163  \n",
       "17  13.502234  \n",
       "18   2.329567  \n",
       "19   5.057148  \n",
       "20   8.238857  \n",
       "21   1.744413  \n",
       "22  12.211433  \n",
       "23   5.518473  "
      ]
     },
     "execution_count": 178,
     "metadata": {},
     "output_type": "execute_result"
    }
   ],
   "source": [
    "# Freqs by days (average of 100000 outputs)\n",
    "asd"
   ]
  },
  {
   "cell_type": "code",
   "execution_count": 179,
   "metadata": {},
   "outputs": [
    {
     "data": {
      "text/plain": [
       "<matplotlib.image.AxesImage at 0x7f54e2992ba8>"
      ]
     },
     "execution_count": 179,
     "metadata": {},
     "output_type": "execute_result"
    },
    {
     "data": {
      "image/png": "[encoded data removed]",
      "text/plain": [
       "<Figure size 432x288 with 1 Axes>"
      ]
     },
     "metadata": {
      "needs_background": "light"
     },
     "output_type": "display_data"
    }
   ],
   "source": [
    "plt.imshow(s)"
   ]
  },
  {
   "cell_type": "code",
   "execution_count": 180,
   "metadata": {},
   "outputs": [
    {
     "data": {
      "text/plain": [
       "<matplotlib.image.AxesImage at 0x7f54e2352f28>"
      ]
     },
     "execution_count": 180,
     "metadata": {},
     "output_type": "execute_result"
    },
    {
     "data": {
      "image/png": "[encoded data removed]",
      "text/plain": [
       "<Figure size 432x288 with 1 Axes>"
      ]
     },
     "metadata": {
      "needs_background": "light"
     },
     "output_type": "display_data"
    }
   ],
   "source": [
    "r = np.random.randint(len(arr))\n",
    "plt.imshow(arr[r])"
   ]
  }
 ],
 "metadata": {
  "kernelspec": {
   "display_name": "Python 3",
   "language": "python",
   "name": "python3"
  },
  "language_info": {
   "codemirror_mode": {
    "name": "ipython",
    "version": 3
   },
   "file_extension": ".py",
   "mimetype": "text/x-python",
   "name": "python",
   "nbconvert_exporter": "python",
   "pygments_lexer": "ipython3",
   "version": "3.6.12"
  }
 },
 "nbformat": 4,
 "nbformat_minor": 4
}
